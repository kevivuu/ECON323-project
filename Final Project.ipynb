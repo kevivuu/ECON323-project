{
 "cells": [
  {
   "cell_type": "markdown",
   "id": "1133a3f9",
   "metadata": {},
   "source": [
    "# Temperature on Electricity Demand (New England)"
   ]
  },
  {
   "cell_type": "code",
   "execution_count": null,
   "id": "0a90a808-6c25-4881-8a14-a58207d878c7",
   "metadata": {},
   "outputs": [
    {
     "ename": "",
     "evalue": "",
     "output_type": "error",
     "traceback": [
      "\u001b[1;31mThe file '.venv/lib/python3.12/site-packages/psutil/_psutil_osx.abi3.so, 0x0002' seems to be overriding built in modules and interfering with the startup of the kernel. Consider renaming the file and starting the kernel again.\n",
      "\u001b[1;31mClick <a href='https://aka.ms/kernelFailuresOverridingBuiltInModules'>here</a> for more info."
     ]
    }
   ],
   "source": [
    "import pandas as pd\n",
    "import matplotlib.pyplot as plt\n",
    "import numpy as np\n",
    "import seaborn as sns\n",
    "import warnings\n",
    "\n",
    "%matplotlib inline\n",
    "\n",
    "# test number 3 \n",
    "\n",
    "#For warning surpression\n",
    "warnings.filterwarnings(\"ignore\", category=FutureWarning)\n",
    "#To reactivate warning\n",
    "# warnings.filterwarnings(\"default\", category=FutureWarning)"
   ]
  },
  {
   "cell_type": "markdown",
   "id": "08d312e3",
   "metadata": {},
   "source": [
    "## Background\n",
    "Rough skeleton\n",
    "\n",
    "1. Talk about electcity market \n",
    "2. Talk about heating and how its fractured\n",
    "3. Talk about Schaffer paper and exisitng literature \n",
    "4. Motivations into what why we are looking into this and what the plan is "
   ]
  },
  {
   "cell_type": "markdown",
   "id": "729a6562-6385-4267-a00a-81cbf95e0900",
   "metadata": {},
   "source": [
    "## Electricity Demand (System Load)\n",
    "\n",
    "https://www.iso-ne.com/isoexpress/"
   ]
  },
  {
   "cell_type": "code",
   "execution_count": null,
   "id": "e5d2a717",
   "metadata": {},
   "outputs": [
    {
     "ename": "",
     "evalue": "",
     "output_type": "error",
     "traceback": [
      "\u001b[1;31mThe file '.venv/lib/python3.12/site-packages/psutil/_psutil_osx.abi3.so, 0x0002' seems to be overriding built in modules and interfering with the startup of the kernel. Consider renaming the file and starting the kernel again.\n",
      "\u001b[1;31mClick <a href='https://aka.ms/kernelFailuresOverridingBuiltInModules'>here</a> for more info."
     ]
    }
   ],
   "source": [
    "states = ['ISONE CA', 'ME', 'NH', 'VT', 'CT', 'RI', 'SEMASS' ,'WCMASS', 'NEMASSBOST']\n",
    "\n",
    "state_dfs = [pd.DataFrame(columns=['Date', 'Hour', 'Demand', 'Temperature']) for _ in states]"
   ]
  },
  {
   "cell_type": "markdown",
   "id": "e3506de8",
   "metadata": {},
   "source": [
    "#### DO NOT TOUCH (Cleaning for final project)"
   ]
  },
  {
   "cell_type": "code",
   "execution_count": null,
   "id": "6a06c676",
   "metadata": {},
   "outputs": [
    {
     "ename": "",
     "evalue": "",
     "output_type": "error",
     "traceback": [
      "\u001b[1;31mThe file '.venv/lib/python3.12/site-packages/psutil/_psutil_osx.abi3.so, 0x0002' seems to be overriding built in modules and interfering with the startup of the kernel. Consider renaming the file and starting the kernel again.\n",
      "\u001b[1;31mClick <a href='https://aka.ms/kernelFailuresOverridingBuiltInModules'>here</a> for more info."
     ]
    }
   ],
   "source": [
    "# for year in range(2011, 2018):\n",
    "#     path = f\"data/demand/{year}_smd_hourly.xls\"\n",
    "#     if year >= 2016:\n",
    "#         for i, state in enumerate(states):\n",
    "#             state_df = pd.read_excel(path, sheet_name = state)\n",
    "#             state_df = state_df[['Date', 'Hr_End', 'RT_Demand', 'Dry_Bulb']]\n",
    "#             state_df = state_df.rename(columns = {'Hr_End' : 'Hour', 'RT_Demand' : 'Demand', 'Dry_Bulb' : 'Temperature'})\n",
    "#             state_df['Date'] = pd.to_datetime(state_df['Date'], format = 'dd-bb-yy')\n",
    "            \n",
    "#             state_dfs[i] = pd.concat([state_dfs[i], state_df], ignore_index = True)\n",
    "#     else:\n",
    "#         for i, state in enumerate(states):\n",
    "#             state_df = pd.read_excel(path, sheet_name = state)\n",
    "#             state_df = state_df[['Date', 'Hour', 'DEMAND', 'DryBulb']]\n",
    "#             state_df = state_df.rename(columns = {'DEMAND' : 'Demand', 'DryBulb' : 'Temperature'})\n",
    "#             state_df['Date'] = pd.to_datetime(state_df['Date'], format = 'dd/mm/yy')\n",
    "            \n",
    "#             state_dfs[i] = pd.concat([state_dfs[i], state_df], ignore_index = True)\n",
    "            \n",
    "# for i in range(len(state_dfs)):\n",
    "#     #Set index as datetime\n",
    "#     state_dfs[i]['Datetime'] = pd.to_datetime(state_dfs[i]['Date']) + pd.to_timedelta(state_dfs[i]['Hour'], unit='h')\n",
    "#     state_dfs[i] = state_dfs[i].set_index('Datetime')\n",
    "    \n",
    "#     #Add Year column\n",
    "#     state_dfs[i]['Year'] = pd.to_datetime(state_dfs[i]['Date']).dt.year\n",
    "#     columns = ['Year'] + [col for col in state_dfs[i].columns if col != 'Year']\n",
    "#     state_dfs[i] = state_dfs[i][columns]\n",
    "    \n",
    "#     #Remove all rows with 0 demand\n",
    "#     state_dfs[i] = state_dfs[i][state_dfs[i]['Demand'] != 0]"
   ]
  },
  {
   "cell_type": "markdown",
   "id": "01f227d7",
   "metadata": {},
   "source": [
    "#### Continue"
   ]
  },
  {
   "cell_type": "code",
   "execution_count": null,
   "id": "06841bd2",
   "metadata": {},
   "outputs": [
    {
     "ename": "",
     "evalue": "",
     "output_type": "error",
     "traceback": [
      "\u001b[1;31mThe file '.venv/lib/python3.12/site-packages/psutil/_psutil_osx.abi3.so, 0x0002' seems to be overriding built in modules and interfering with the startup of the kernel. Consider renaming the file and starting the kernel again.\n",
      "\u001b[1;31mClick <a href='https://aka.ms/kernelFailuresOverridingBuiltInModules'>here</a> for more info."
     ]
    }
   ],
   "source": [
    "state_names = ['isone_ca', 'me', 'nh', 'vt', 'ct', 'ri', 'sema', 'wcma', 'nema']\n",
    "\n",
    "state_names_full = ['ISO-NE Control Area', 'Maine', 'New Hampshire', 'Vermont',\n",
    "                    'Connecticut', 'Rhode Island', 'SouthEastern Massachusetts',\n",
    "                    'Western & Central Massachusetts', 'NorthEastern Massachusetts & Boston']"
   ]
  },
  {
   "cell_type": "code",
   "execution_count": null,
   "id": "5b00adcb",
   "metadata": {},
   "outputs": [
    {
     "ename": "",
     "evalue": "",
     "output_type": "error",
     "traceback": [
      "\u001b[1;31mThe file '.venv/lib/python3.12/site-packages/psutil/_psutil_osx.abi3.so, 0x0002' seems to be overriding built in modules and interfering with the startup of the kernel. Consider renaming the file and starting the kernel again.\n",
      "\u001b[1;31mClick <a href='https://aka.ms/kernelFailuresOverridingBuiltInModules'>here</a> for more info."
     ]
    }
   ],
   "source": [
    "for i in range(len(state_names)):\n",
    "    path = f\"data/Others/demand/{state_names[i]}.csv\"\n",
    "    state_dfs[i] = pd.read_csv(path)\n",
    "    state_dfs[i]['Datetime'] = pd.to_datetime(state_dfs[i]['Date']) + pd.to_timedelta(state_dfs[i]['Hour'], unit='h')\n",
    "    state_dfs[i] = state_dfs[i].set_index('Datetime')\n",
    "    state_dfs[i][\"Date\"] = pd.to_datetime(state_dfs[i][\"Date\"])"
   ]
  },
  {
   "cell_type": "code",
   "execution_count": null,
   "id": "788b6a0c",
   "metadata": {},
   "outputs": [
    {
     "ename": "",
     "evalue": "",
     "output_type": "error",
     "traceback": [
      "\u001b[1;31mThe file '.venv/lib/python3.12/site-packages/psutil/_psutil_osx.abi3.so, 0x0002' seems to be overriding built in modules and interfering with the startup of the kernel. Consider renaming the file and starting the kernel again.\n",
      "\u001b[1;31mClick <a href='https://aka.ms/kernelFailuresOverridingBuiltInModules'>here</a> for more info."
     ]
    }
   ],
   "source": [
    "state_dfs[0]"
   ]
  },
  {
   "cell_type": "code",
   "execution_count": null,
   "id": "42903fe5",
   "metadata": {},
   "outputs": [
    {
     "ename": "",
     "evalue": "",
     "output_type": "error",
     "traceback": [
      "\u001b[1;31mThe file '.venv/lib/python3.12/site-packages/psutil/_psutil_osx.abi3.so, 0x0002' seems to be overriding built in modules and interfering with the startup of the kernel. Consider renaming the file and starting the kernel again.\n",
      "\u001b[1;31mClick <a href='https://aka.ms/kernelFailuresOverridingBuiltInModules'>here</a> for more info."
     ]
    }
   ],
   "source": [
    "state_dfs[0].plot.scatter('Temperature', 'Demand')\n",
    "plt.title('Electricity Demand on Temperature (Entire ISO-NE)')"
   ]
  },
  {
   "cell_type": "code",
   "execution_count": null,
   "id": "83bb2b91",
   "metadata": {},
   "outputs": [
    {
     "ename": "",
     "evalue": "",
     "output_type": "error",
     "traceback": [
      "\u001b[1;31mThe file '.venv/lib/python3.12/site-packages/psutil/_psutil_osx.abi3.so, 0x0002' seems to be overriding built in modules and interfering with the startup of the kernel. Consider renaming the file and starting the kernel again.\n",
      "\u001b[1;31mClick <a href='https://aka.ms/kernelFailuresOverridingBuiltInModules'>here</a> for more info."
     ]
    }
   ],
   "source": [
    "# Assuming `state_dfs` is a list of 8 DataFrames and `state_names` is a list of 8 titles\n",
    "fig, axes = plt.subplots(2, 4, figsize=(15, 8))  # Creates a 2x4 grid of subplots\n",
    "\n",
    "# Flatten the axes array for easy iteration\n",
    "axes = axes.flatten()\n",
    "\n",
    "# Loop through each DataFrame and corresponding title\n",
    "for i, (df, name) in enumerate(zip(state_dfs[1:], state_names_full[1:])):\n",
    "    axes[i].scatter(df['Temperature'], df['Demand'])\n",
    "    axes[i].set_title(name)\n",
    "    axes[i].set_ylabel('Demand')\n",
    "    axes[i].set_xlabel('Temperature')\n",
    "\n",
    "fig.suptitle('Electricity Demand on Temperature', fontsize=20, fontweight='bold')\n",
    "\n",
    "# Adjust layout to prevent overlap\n",
    "plt.tight_layout()\n",
    "plt.show()"
   ]
  },
  {
   "cell_type": "markdown",
   "id": "240313b1",
   "metadata": {},
   "source": [
    "### Natural Gas Prices\n",
    "\n",
    "https://www.eia.gov/dnav/ng/ng_pri_sum_a_EPG0_PG1_DMcf_m.htm"
   ]
  },
  {
   "cell_type": "markdown",
   "id": "10825d9f",
   "metadata": {},
   "source": [
    "We control for natural gas prices because "
   ]
  },
  {
   "cell_type": "code",
   "execution_count": null,
   "id": "3c595a2b",
   "metadata": {},
   "outputs": [
    {
     "ename": "",
     "evalue": "",
     "output_type": "error",
     "traceback": [
      "\u001b[1;31mThe file '.venv/lib/python3.12/site-packages/psutil/_psutil_osx.abi3.so, 0x0002' seems to be overriding built in modules and interfering with the startup of the kernel. Consider renaming the file and starting the kernel again.\n",
      "\u001b[1;31mClick <a href='https://aka.ms/kernelFailuresOverridingBuiltInModules'>here</a> for more info."
     ]
    }
   ],
   "source": [
    "ng = pd.read_excel('data/NG_PRI_SUM_A_EPG0_PG1_DMCF_M.xls', sheet_name = 'Data 1',\n",
    "                   skiprows = 2)\n",
    "\n",
    "ng = ng[['Date', 'Natural Gas Citygate Price in Connecticut (Dollars per Thousand Cubic Feet)', \n",
    "         'Natural Gas Citygate Price in Maine (Dollars per Thousand Cubic Feet)', \n",
    "         'Natural Gas Citygate Price in Massachusetts (Dollars per Thousand Cubic Feet)', \n",
    "         'Natural Gas Citygate Price in New Hampshire (Dollars per Thousand Cubic Feet)',\n",
    "         'Natural Gas Citygate Price in Rhode Island (Dollars per Thousand Cubic Feet)',\n",
    "         'Natural Gas Citygate Price in Vermont (Dollars per Thousand Cubic Feet)']]\n",
    "\n",
    "ng.columns = ['Date', 'Connecticut', 'Maine', 'Massachusetts', 'New Hampshire', 'Rhode Island', 'Vermont']\n",
    "\n",
    "ng = ng[(ng['Date'] >= '2011-01-01') & (ng['Date'] <= '2017-12-31')]\n",
    "\n",
    "ng['year_month'] = ng['Date'].dt.to_period('M')\n",
    "\n",
    "ng"
   ]
  },
  {
   "cell_type": "code",
   "execution_count": null,
   "id": "f41775f9",
   "metadata": {},
   "outputs": [
    {
     "ename": "",
     "evalue": "",
     "output_type": "error",
     "traceback": [
      "\u001b[1;31mThe file '.venv/lib/python3.12/site-packages/psutil/_psutil_osx.abi3.so, 0x0002' seems to be overriding built in modules and interfering with the startup of the kernel. Consider renaming the file and starting the kernel again.\n",
      "\u001b[1;31mClick <a href='https://aka.ms/kernelFailuresOverridingBuiltInModules'>here</a> for more info."
     ]
    }
   ],
   "source": [
    "for i in range(len(state_dfs)):\n",
    "    state_dfs[i]['year_month'] = state_dfs[i]['Date'].dt.to_period('M')\n",
    "    #All New England - no NG price data\n",
    "    if i == 0:\n",
    "        state_dfs[i].drop(columns = ['year_month'], inplace = True)\n",
    "        continue\n",
    "    #Maine\n",
    "    elif i == 1:\n",
    "        state_dfs[i] = pd.merge(state_dfs[i], ng[['year_month', 'Maine']], on = 'year_month', how = 'left')\n",
    "        state_dfs[i] = state_dfs[i].rename(columns={'Maine': 'Natural Gas Price'})\n",
    "    #New Hampsphire\n",
    "    elif i == 2:\n",
    "        state_dfs[i] = pd.merge(state_dfs[i], ng[['year_month', 'New Hampshire']], on = 'year_month', how = 'left')\n",
    "        state_dfs[i] = state_dfs[i].rename(columns={'New Hampshire': 'Natural Gas Price'})\n",
    "    #Vermont\n",
    "    elif i == 3:\n",
    "        state_dfs[i] = pd.merge(state_dfs[i], ng[['year_month', 'Vermont']], on = 'year_month', how = 'left')\n",
    "        state_dfs[i] = state_dfs[i].rename(columns={'Vermont': 'Natural Gas Price'})\n",
    "    #Connecticut\n",
    "    elif i == 4:\n",
    "        state_dfs[i] = pd.merge(state_dfs[i], ng[['year_month', 'Connecticut']], on = 'year_month', how = 'left')\n",
    "        state_dfs[i] = state_dfs[i].rename(columns={'Connecticut': 'Natural Gas Price'})\n",
    "    #Rhode Island\n",
    "    elif i == 5:\n",
    "        state_dfs[i] = pd.merge(state_dfs[i], ng[['year_month', 'Rhode Island']], on = 'year_month', how = 'left')\n",
    "        state_dfs[i] = state_dfs[i].rename(columns={'Rhode Island': 'Natural Gas Price'})\n",
    "    #Massachusetts\n",
    "    else:\n",
    "        state_dfs[i] = pd.merge(state_dfs[i], ng[['year_month', 'Massachusetts']], on = 'year_month', how = 'left')\n",
    "        state_dfs[i] = state_dfs[i].rename(columns={'Massachusetts': 'Natural Gas Price'})\n",
    "    state_dfs[i].drop(columns = ['year_month'], inplace = True)"
   ]
  },
  {
   "cell_type": "code",
   "execution_count": null,
   "id": "1109f93e",
   "metadata": {},
   "outputs": [
    {
     "ename": "",
     "evalue": "",
     "output_type": "error",
     "traceback": [
      "\u001b[1;31mThe file '.venv/lib/python3.12/site-packages/psutil/_psutil_osx.abi3.so, 0x0002' seems to be overriding built in modules and interfering with the startup of the kernel. Consider renaming the file and starting the kernel again.\n",
      "\u001b[1;31mClick <a href='https://aka.ms/kernelFailuresOverridingBuiltInModules'>here</a> for more info."
     ]
    }
   ],
   "source": [
    "state_dfs[1]"
   ]
  },
  {
   "cell_type": "markdown",
   "id": "612784c5",
   "metadata": {},
   "source": [
    "### Generation Mix\n",
    "\n",
    "https://www.iso-ne.com/isoexpress/web/reports/operations/-/tree/daily-gen-fuel-type"
   ]
  },
  {
   "cell_type": "code",
   "execution_count": null,
   "id": "dc352653",
   "metadata": {},
   "outputs": [
    {
     "ename": "",
     "evalue": "",
     "output_type": "error",
     "traceback": [
      "\u001b[1;31mThe file '.venv/lib/python3.12/site-packages/psutil/_psutil_osx.abi3.so, 0x0002' seems to be overriding built in modules and interfering with the startup of the kernel. Consider renaming the file and starting the kernel again.\n",
      "\u001b[1;31mClick <a href='https://aka.ms/kernelFailuresOverridingBuiltInModules'>here</a> for more info."
     ]
    }
   ],
   "source": []
  },
  {
   "cell_type": "code",
   "execution_count": null,
   "id": "5c0b7054",
   "metadata": {},
   "outputs": [
    {
     "ename": "",
     "evalue": "",
     "output_type": "error",
     "traceback": [
      "\u001b[1;31mThe file '.venv/lib/python3.12/site-packages/psutil/_psutil_osx.abi3.so, 0x0002' seems to be overriding built in modules and interfering with the startup of the kernel. Consider renaming the file and starting the kernel again.\n",
      "\u001b[1;31mClick <a href='https://aka.ms/kernelFailuresOverridingBuiltInModules'>here</a> for more info."
     ]
    }
   ],
   "source": []
  },
  {
   "cell_type": "code",
   "execution_count": null,
   "id": "8b029cfc",
   "metadata": {},
   "outputs": [
    {
     "ename": "",
     "evalue": "",
     "output_type": "error",
     "traceback": [
      "\u001b[1;31mThe file '.venv/lib/python3.12/site-packages/psutil/_psutil_osx.abi3.so, 0x0002' seems to be overriding built in modules and interfering with the startup of the kernel. Consider renaming the file and starting the kernel again.\n",
      "\u001b[1;31mClick <a href='https://aka.ms/kernelFailuresOverridingBuiltInModules'>here</a> for more info."
     ]
    }
   ],
   "source": []
  },
  {
   "cell_type": "code",
   "execution_count": null,
   "id": "f527708d",
   "metadata": {},
   "outputs": [
    {
     "ename": "",
     "evalue": "",
     "output_type": "error",
     "traceback": [
      "\u001b[1;31mThe file '.venv/lib/python3.12/site-packages/psutil/_psutil_osx.abi3.so, 0x0002' seems to be overriding built in modules and interfering with the startup of the kernel. Consider renaming the file and starting the kernel again.\n",
      "\u001b[1;31mClick <a href='https://aka.ms/kernelFailuresOverridingBuiltInModules'>here</a> for more info."
     ]
    }
   ],
   "source": []
  },
  {
   "cell_type": "markdown",
   "id": "d45f463b",
   "metadata": {},
   "source": [
    "### Elasticity"
   ]
  },
  {
   "cell_type": "code",
   "execution_count": null,
   "id": "e616b67c",
   "metadata": {},
   "outputs": [
    {
     "ename": "",
     "evalue": "",
     "output_type": "error",
     "traceback": [
      "\u001b[1;31mThe file '.venv/lib/python3.12/site-packages/psutil/_psutil_osx.abi3.so, 0x0002' seems to be overriding built in modules and interfering with the startup of the kernel. Consider renaming the file and starting the kernel again.\n",
      "\u001b[1;31mClick <a href='https://aka.ms/kernelFailuresOverridingBuiltInModules'>here</a> for more info."
     ]
    }
   ],
   "source": [
    "pct_change_dfs = []\n",
    "\n",
    "for i in range(len(state_dfs)):\n",
    "    pct_change_df = state_dfs[i].copy()\n",
    "    \n",
    "    # Calculate percentage changes for Demand and Temperature\n",
    "    pct_change_df['Demand_pct_change'] = pct_change_df['Demand'].pct_change()\n",
    "    pct_change_df['Temperature_pct_change'] = pct_change_df['Temperature'].pct_change()\n",
    "\n",
    "    # Calculate Elasticity\n",
    "    pct_change_df['Elasticity'] = pct_change_df['Demand_pct_change'] / pct_change_df['Temperature_pct_change']\n",
    "\n",
    "    # Remove rows with NaN or infinite Elasticity values\n",
    "    pct_change_df = pct_change_df.dropna(subset=['Elasticity'])\n",
    "    # pct_change_df = pct_change_df[~pct_change_df['Elasticity'].isin([np.inf, -np.inf])]\n",
    "\n",
    "    # Append the modified DataFrame to pct_change_dfs\n",
    "    pct_change_dfs.append(pct_change_df)"
   ]
  },
  {
   "cell_type": "code",
   "execution_count": null,
   "id": "01bc9941",
   "metadata": {},
   "outputs": [
    {
     "ename": "",
     "evalue": "",
     "output_type": "error",
     "traceback": [
      "\u001b[1;31mThe file '.venv/lib/python3.12/site-packages/psutil/_psutil_osx.abi3.so, 0x0002' seems to be overriding built in modules and interfering with the startup of the kernel. Consider renaming the file and starting the kernel again.\n",
      "\u001b[1;31mClick <a href='https://aka.ms/kernelFailuresOverridingBuiltInModules'>here</a> for more info."
     ]
    }
   ],
   "source": [
    "pct_change_dfs[1]"
   ]
  },
  {
   "cell_type": "code",
   "execution_count": null,
   "id": "dd54b039",
   "metadata": {},
   "outputs": [
    {
     "ename": "",
     "evalue": "",
     "output_type": "error",
     "traceback": [
      "\u001b[1;31mThe file '.venv/lib/python3.12/site-packages/psutil/_psutil_osx.abi3.so, 0x0002' seems to be overriding built in modules and interfering with the startup of the kernel. Consider renaming the file and starting the kernel again.\n",
      "\u001b[1;31mClick <a href='https://aka.ms/kernelFailuresOverridingBuiltInModules'>here</a> for more info."
     ]
    }
   ],
   "source": [
    "pct_change_dfs[0].plot.scatter('Temperature', 'Elasticity')\n",
    "plt.title('Demand Elasticity on Temperature (New England)')"
   ]
  },
  {
   "cell_type": "code",
   "execution_count": null,
   "id": "bd0ff9da",
   "metadata": {},
   "outputs": [
    {
     "ename": "",
     "evalue": "",
     "output_type": "error",
     "traceback": [
      "\u001b[1;31mThe file '.venv/lib/python3.12/site-packages/psutil/_psutil_osx.abi3.so, 0x0002' seems to be overriding built in modules and interfering with the startup of the kernel. Consider renaming the file and starting the kernel again.\n",
      "\u001b[1;31mClick <a href='https://aka.ms/kernelFailuresOverridingBuiltInModules'>here</a> for more info."
     ]
    }
   ],
   "source": [
    "# Assuming `state_dfs` is a list of 8 DataFrames and `state_names` is a list of 8 titles\n",
    "fig, axes = plt.subplots(2, 4, figsize=(15, 8))  # Creates a 2x4 grid of subplots\n",
    "\n",
    "# Flatten the axes array for easy iteration\n",
    "axes = axes.flatten()\n",
    "\n",
    "# Loop through each DataFrame and corresponding title\n",
    "for i, (df, name) in enumerate(zip(pct_change_dfs[1:], state_names_full[1:])):\n",
    "    axes[i].scatter(df['Temperature'], df['Elasticity'])\n",
    "    axes[i].set_title(name)\n",
    "    axes[i].set_ylabel('Elasticity')\n",
    "    axes[i].set_xlabel('Temperature')\n",
    "\n",
    "fig.suptitle('Demand Elasticity on Temperature', fontsize=20, fontweight='bold')\n",
    "\n",
    "# Adjust layout to prevent overlap\n",
    "plt.tight_layout()\n",
    "plt.show()"
   ]
  },
  {
   "cell_type": "code",
   "execution_count": null,
   "id": "4ff0037e",
   "metadata": {},
   "outputs": [
    {
     "ename": "",
     "evalue": "",
     "output_type": "error",
     "traceback": [
      "\u001b[1;31mThe file '.venv/lib/python3.12/site-packages/psutil/_psutil_osx.abi3.so, 0x0002' seems to be overriding built in modules and interfering with the startup of the kernel. Consider renaming the file and starting the kernel again.\n",
      "\u001b[1;31mClick <a href='https://aka.ms/kernelFailuresOverridingBuiltInModules'>here</a> for more info."
     ]
    }
   ],
   "source": []
  }
 ],
 "metadata": {
  "kernelspec": {
   "display_name": ".venv",
   "language": "python",
   "name": "python3"
  },
  "language_info": {
   "codemirror_mode": {
    "name": "ipython",
    "version": 3
   },
   "file_extension": ".py",
   "mimetype": "text/x-python",
   "name": "python",
   "nbconvert_exporter": "python",
   "pygments_lexer": "ipython3",
   "version": "3.12.4"
  }
 },
 "nbformat": 4,
 "nbformat_minor": 5
}
