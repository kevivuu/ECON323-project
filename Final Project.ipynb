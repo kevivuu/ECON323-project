{
 "cells": [
  {
   "cell_type": "markdown",
   "id": "1133a3f9",
   "metadata": {},
   "source": [
    "# LNG Price Recoupling and Energy Pool"
   ]
  },
  {
   "cell_type": "code",
   "execution_count": 3,
   "id": "0a90a808-6c25-4881-8a14-a58207d878c7",
   "metadata": {},
   "outputs": [],
   "source": [
    "import pandas as pd\n",
    "import matplotlib.pyplot as plt\n",
    "import numpy as np\n",
    "import seaborn as sns\n",
    "\n",
    "%matplotlib inline"
   ]
  },
  {
   "cell_type": "markdown",
   "id": "729a6562-6385-4267-a00a-81cbf95e0900",
   "metadata": {},
   "source": [
    "## Electricity Demand (System Load)\n",
    "\n",
    "https://www.iso-ne.com/isoexpress/"
   ]
  },
  {
   "cell_type": "code",
   "execution_count": 12,
   "id": "ee3a4264",
   "metadata": {},
   "outputs": [
    {
     "data": {
      "text/html": [
       "<div>\n",
       "<style scoped>\n",
       "    .dataframe tbody tr th:only-of-type {\n",
       "        vertical-align: middle;\n",
       "    }\n",
       "\n",
       "    .dataframe tbody tr th {\n",
       "        vertical-align: top;\n",
       "    }\n",
       "\n",
       "    .dataframe thead th {\n",
       "        text-align: right;\n",
       "    }\n",
       "</style>\n",
       "<table border=\"1\" class=\"dataframe\">\n",
       "  <thead>\n",
       "    <tr style=\"text-align: right;\">\n",
       "      <th></th>\n",
       "      <th>BeginDate</th>\n",
       "      <th>Type</th>\n",
       "      <th>Mw</th>\n",
       "    </tr>\n",
       "  </thead>\n",
       "  <tbody>\n",
       "    <tr>\n",
       "      <th>0</th>\n",
       "      <td>11/11/2024 21:30</td>\n",
       "      <td>forecast</td>\n",
       "      <td>9840</td>\n",
       "    </tr>\n",
       "    <tr>\n",
       "      <th>1</th>\n",
       "      <td>11/11/2024 22:30</td>\n",
       "      <td>forecast</td>\n",
       "      <td>9490</td>\n",
       "    </tr>\n",
       "    <tr>\n",
       "      <th>2</th>\n",
       "      <td>11/11/2024 23:30</td>\n",
       "      <td>forecast</td>\n",
       "      <td>9370</td>\n",
       "    </tr>\n",
       "    <tr>\n",
       "      <th>3</th>\n",
       "      <td>11/12/2024 00:30</td>\n",
       "      <td>forecast</td>\n",
       "      <td>9400</td>\n",
       "    </tr>\n",
       "    <tr>\n",
       "      <th>4</th>\n",
       "      <td>11/12/2024 01:30</td>\n",
       "      <td>forecast</td>\n",
       "      <td>9710</td>\n",
       "    </tr>\n",
       "  </tbody>\n",
       "</table>\n",
       "</div>"
      ],
      "text/plain": [
       "          BeginDate      Type    Mw\n",
       "0  11/11/2024 21:30  forecast  9840\n",
       "1  11/11/2024 22:30  forecast  9490\n",
       "2  11/11/2024 23:30  forecast  9370\n",
       "3  11/12/2024 00:30  forecast  9400\n",
       "4  11/12/2024 01:30  forecast  9710"
      ]
     },
     "execution_count": 12,
     "metadata": {},
     "output_type": "execute_result"
    }
   ],
   "source": [
    "elec_demand = pd.read_csv('data/systemload.csv')\n",
    "\n",
    "elec_demand.head()"
   ]
  },
  {
   "cell_type": "code",
   "execution_count": null,
   "id": "e510de6e",
   "metadata": {},
   "outputs": [],
   "source": []
  },
  {
   "cell_type": "code",
   "execution_count": null,
   "id": "6a06c676",
   "metadata": {},
   "outputs": [],
   "source": []
  },
  {
   "cell_type": "code",
   "execution_count": null,
   "id": "52c6c255",
   "metadata": {},
   "outputs": [],
   "source": []
  },
  {
   "cell_type": "code",
   "execution_count": null,
   "id": "42903fe5",
   "metadata": {},
   "outputs": [],
   "source": []
  },
  {
   "cell_type": "code",
   "execution_count": null,
   "id": "83bb2b91",
   "metadata": {},
   "outputs": [],
   "source": []
  }
 ],
 "metadata": {
  "kernelspec": {
   "display_name": ".venv",
   "language": "python",
   "name": "python3"
  },
  "language_info": {
   "codemirror_mode": {
    "name": "ipython",
    "version": 3
   },
   "file_extension": ".py",
   "mimetype": "text/x-python",
   "name": "python",
   "nbconvert_exporter": "python",
   "pygments_lexer": "ipython3",
   "version": "3.12.1"
  }
 },
 "nbformat": 4,
 "nbformat_minor": 5
}
